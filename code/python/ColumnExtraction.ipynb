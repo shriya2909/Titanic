{
 "cells": [
  {
   "cell_type": "markdown",
   "metadata": {},
   "source": [
    "Column Extraction for Titanic Dataset\n",
    "===\n",
    "\n",
    "Derives a few potentially interesting variables from the existing raw data.\n",
    "\n",
    "Writes out the new columns to a separate sheet for later merging."
   ]
  },
  {
   "cell_type": "code",
   "execution_count": 1,
   "metadata": {},
   "outputs": [],
   "source": [
    "import pandas as pd\n",
    "from collections import Counter\n",
    "import re\n",
    "import matplotlib.pyplot as plt"
   ]
  },
  {
   "cell_type": "code",
   "execution_count": 13,
   "metadata": {},
   "outputs": [
    {
     "data": {
      "text/plain": [
       "(891, 418)"
      ]
     },
     "execution_count": 13,
     "metadata": {},
     "output_type": "execute_result"
    }
   ],
   "source": [
    "train = pd.read_csv(\"../../data/raw/train.csv\")\n",
    "test = pd.read_csv(\"../../data/raw/test.csv\")\n",
    "len(train), len(test)"
   ]
  },
  {
   "cell_type": "code",
   "execution_count": 15,
   "metadata": {
    "scrolled": true
   },
   "outputs": [
    {
     "data": {
      "text/html": [
       "<div>\n",
       "<style scoped>\n",
       "    .dataframe tbody tr th:only-of-type {\n",
       "        vertical-align: middle;\n",
       "    }\n",
       "\n",
       "    .dataframe tbody tr th {\n",
       "        vertical-align: top;\n",
       "    }\n",
       "\n",
       "    .dataframe thead th {\n",
       "        text-align: right;\n",
       "    }\n",
       "</style>\n",
       "<table border=\"1\" class=\"dataframe\">\n",
       "  <thead>\n",
       "    <tr style=\"text-align: right;\">\n",
       "      <th></th>\n",
       "      <th>PassengerId</th>\n",
       "      <th>Survived</th>\n",
       "      <th>Pclass</th>\n",
       "      <th>Name</th>\n",
       "      <th>Sex</th>\n",
       "      <th>Age</th>\n",
       "      <th>SibSp</th>\n",
       "      <th>Parch</th>\n",
       "      <th>Ticket</th>\n",
       "      <th>Fare</th>\n",
       "      <th>Cabin</th>\n",
       "      <th>Embarked</th>\n",
       "    </tr>\n",
       "  </thead>\n",
       "  <tbody>\n",
       "    <tr>\n",
       "      <th>0</th>\n",
       "      <td>1</td>\n",
       "      <td>0</td>\n",
       "      <td>3</td>\n",
       "      <td>Braund, Mr. Owen Harris</td>\n",
       "      <td>male</td>\n",
       "      <td>22.0</td>\n",
       "      <td>1</td>\n",
       "      <td>0</td>\n",
       "      <td>A/5 21171</td>\n",
       "      <td>7.2500</td>\n",
       "      <td>NaN</td>\n",
       "      <td>S</td>\n",
       "    </tr>\n",
       "    <tr>\n",
       "      <th>1</th>\n",
       "      <td>2</td>\n",
       "      <td>1</td>\n",
       "      <td>1</td>\n",
       "      <td>Cumings, Mrs. John Bradley (Florence Briggs Th...</td>\n",
       "      <td>female</td>\n",
       "      <td>38.0</td>\n",
       "      <td>1</td>\n",
       "      <td>0</td>\n",
       "      <td>PC 17599</td>\n",
       "      <td>71.2833</td>\n",
       "      <td>C85</td>\n",
       "      <td>C</td>\n",
       "    </tr>\n",
       "    <tr>\n",
       "      <th>2</th>\n",
       "      <td>3</td>\n",
       "      <td>1</td>\n",
       "      <td>3</td>\n",
       "      <td>Heikkinen, Miss. Laina</td>\n",
       "      <td>female</td>\n",
       "      <td>26.0</td>\n",
       "      <td>0</td>\n",
       "      <td>0</td>\n",
       "      <td>STON/O2. 3101282</td>\n",
       "      <td>7.9250</td>\n",
       "      <td>NaN</td>\n",
       "      <td>S</td>\n",
       "    </tr>\n",
       "    <tr>\n",
       "      <th>3</th>\n",
       "      <td>4</td>\n",
       "      <td>1</td>\n",
       "      <td>1</td>\n",
       "      <td>Futrelle, Mrs. Jacques Heath (Lily May Peel)</td>\n",
       "      <td>female</td>\n",
       "      <td>35.0</td>\n",
       "      <td>1</td>\n",
       "      <td>0</td>\n",
       "      <td>113803</td>\n",
       "      <td>53.1000</td>\n",
       "      <td>C123</td>\n",
       "      <td>S</td>\n",
       "    </tr>\n",
       "    <tr>\n",
       "      <th>4</th>\n",
       "      <td>5</td>\n",
       "      <td>0</td>\n",
       "      <td>3</td>\n",
       "      <td>Allen, Mr. William Henry</td>\n",
       "      <td>male</td>\n",
       "      <td>35.0</td>\n",
       "      <td>0</td>\n",
       "      <td>0</td>\n",
       "      <td>373450</td>\n",
       "      <td>8.0500</td>\n",
       "      <td>NaN</td>\n",
       "      <td>S</td>\n",
       "    </tr>\n",
       "  </tbody>\n",
       "</table>\n",
       "</div>"
      ],
      "text/plain": [
       "   PassengerId  Survived  Pclass  \\\n",
       "0            1         0       3   \n",
       "1            2         1       1   \n",
       "2            3         1       3   \n",
       "3            4         1       1   \n",
       "4            5         0       3   \n",
       "\n",
       "                                                Name     Sex   Age  SibSp  \\\n",
       "0                            Braund, Mr. Owen Harris    male  22.0      1   \n",
       "1  Cumings, Mrs. John Bradley (Florence Briggs Th...  female  38.0      1   \n",
       "2                             Heikkinen, Miss. Laina  female  26.0      0   \n",
       "3       Futrelle, Mrs. Jacques Heath (Lily May Peel)  female  35.0      1   \n",
       "4                           Allen, Mr. William Henry    male  35.0      0   \n",
       "\n",
       "   Parch            Ticket     Fare Cabin Embarked  \n",
       "0      0         A/5 21171   7.2500   NaN        S  \n",
       "1      0          PC 17599  71.2833   C85        C  \n",
       "2      0  STON/O2. 3101282   7.9250   NaN        S  \n",
       "3      0            113803  53.1000  C123        S  \n",
       "4      0            373450   8.0500   NaN        S  "
      ]
     },
     "execution_count": 15,
     "metadata": {},
     "output_type": "execute_result"
    }
   ],
   "source": [
    "train.head()"
   ]
  },
  {
   "cell_type": "code",
   "execution_count": 16,
   "metadata": {},
   "outputs": [
    {
     "data": {
      "text/html": [
       "<div>\n",
       "<style scoped>\n",
       "    .dataframe tbody tr th:only-of-type {\n",
       "        vertical-align: middle;\n",
       "    }\n",
       "\n",
       "    .dataframe tbody tr th {\n",
       "        vertical-align: top;\n",
       "    }\n",
       "\n",
       "    .dataframe thead th {\n",
       "        text-align: right;\n",
       "    }\n",
       "</style>\n",
       "<table border=\"1\" class=\"dataframe\">\n",
       "  <thead>\n",
       "    <tr style=\"text-align: right;\">\n",
       "      <th></th>\n",
       "      <th>PassengerId</th>\n",
       "      <th>Pclass</th>\n",
       "      <th>Name</th>\n",
       "      <th>Sex</th>\n",
       "      <th>Age</th>\n",
       "      <th>SibSp</th>\n",
       "      <th>Parch</th>\n",
       "      <th>Ticket</th>\n",
       "      <th>Fare</th>\n",
       "      <th>Cabin</th>\n",
       "      <th>Embarked</th>\n",
       "      <th>Survived</th>\n",
       "    </tr>\n",
       "  </thead>\n",
       "  <tbody>\n",
       "    <tr>\n",
       "      <th>0</th>\n",
       "      <td>892</td>\n",
       "      <td>3</td>\n",
       "      <td>Kelly, Mr. James</td>\n",
       "      <td>male</td>\n",
       "      <td>34.5</td>\n",
       "      <td>0</td>\n",
       "      <td>0</td>\n",
       "      <td>330911</td>\n",
       "      <td>7.8292</td>\n",
       "      <td>NaN</td>\n",
       "      <td>Q</td>\n",
       "      <td>2</td>\n",
       "    </tr>\n",
       "    <tr>\n",
       "      <th>1</th>\n",
       "      <td>893</td>\n",
       "      <td>3</td>\n",
       "      <td>Wilkes, Mrs. James (Ellen Needs)</td>\n",
       "      <td>female</td>\n",
       "      <td>47.0</td>\n",
       "      <td>1</td>\n",
       "      <td>0</td>\n",
       "      <td>363272</td>\n",
       "      <td>7.0000</td>\n",
       "      <td>NaN</td>\n",
       "      <td>S</td>\n",
       "      <td>2</td>\n",
       "    </tr>\n",
       "    <tr>\n",
       "      <th>2</th>\n",
       "      <td>894</td>\n",
       "      <td>2</td>\n",
       "      <td>Myles, Mr. Thomas Francis</td>\n",
       "      <td>male</td>\n",
       "      <td>62.0</td>\n",
       "      <td>0</td>\n",
       "      <td>0</td>\n",
       "      <td>240276</td>\n",
       "      <td>9.6875</td>\n",
       "      <td>NaN</td>\n",
       "      <td>Q</td>\n",
       "      <td>2</td>\n",
       "    </tr>\n",
       "    <tr>\n",
       "      <th>3</th>\n",
       "      <td>895</td>\n",
       "      <td>3</td>\n",
       "      <td>Wirz, Mr. Albert</td>\n",
       "      <td>male</td>\n",
       "      <td>27.0</td>\n",
       "      <td>0</td>\n",
       "      <td>0</td>\n",
       "      <td>315154</td>\n",
       "      <td>8.6625</td>\n",
       "      <td>NaN</td>\n",
       "      <td>S</td>\n",
       "      <td>2</td>\n",
       "    </tr>\n",
       "    <tr>\n",
       "      <th>4</th>\n",
       "      <td>896</td>\n",
       "      <td>3</td>\n",
       "      <td>Hirvonen, Mrs. Alexander (Helga E Lindqvist)</td>\n",
       "      <td>female</td>\n",
       "      <td>22.0</td>\n",
       "      <td>1</td>\n",
       "      <td>1</td>\n",
       "      <td>3101298</td>\n",
       "      <td>12.2875</td>\n",
       "      <td>NaN</td>\n",
       "      <td>S</td>\n",
       "      <td>2</td>\n",
       "    </tr>\n",
       "  </tbody>\n",
       "</table>\n",
       "</div>"
      ],
      "text/plain": [
       "   PassengerId  Pclass                                          Name     Sex  \\\n",
       "0          892       3                              Kelly, Mr. James    male   \n",
       "1          893       3              Wilkes, Mrs. James (Ellen Needs)  female   \n",
       "2          894       2                     Myles, Mr. Thomas Francis    male   \n",
       "3          895       3                              Wirz, Mr. Albert    male   \n",
       "4          896       3  Hirvonen, Mrs. Alexander (Helga E Lindqvist)  female   \n",
       "\n",
       "    Age  SibSp  Parch   Ticket     Fare Cabin Embarked  Survived  \n",
       "0  34.5      0      0   330911   7.8292   NaN        Q         2  \n",
       "1  47.0      1      0   363272   7.0000   NaN        S         2  \n",
       "2  62.0      0      0   240276   9.6875   NaN        Q         2  \n",
       "3  27.0      0      0   315154   8.6625   NaN        S         2  \n",
       "4  22.0      1      1  3101298  12.2875   NaN        S         2  "
      ]
     },
     "execution_count": 16,
     "metadata": {},
     "output_type": "execute_result"
    }
   ],
   "source": [
    "test.head()"
   ]
  },
  {
   "cell_type": "code",
   "execution_count": 14,
   "metadata": {},
   "outputs": [],
   "source": [
    "test[\"Survived\"] = 2"
   ]
  },
  {
   "cell_type": "code",
   "execution_count": 17,
   "metadata": {
    "scrolled": true
   },
   "outputs": [
    {
     "name": "stderr",
     "output_type": "stream",
     "text": [
      "/home/levon003/anaconda3/lib/python3.6/site-packages/ipykernel_launcher.py:1: FutureWarning: Sorting because non-concatenation axis is not aligned. A future version\n",
      "of pandas will change to not sort by default.\n",
      "\n",
      "To accept the future behavior, pass 'sort=True'.\n",
      "\n",
      "To retain the current behavior and silence the warning, pass sort=False\n",
      "\n",
      "  \"\"\"Entry point for launching an IPython kernel.\n"
     ]
    },
    {
     "data": {
      "text/plain": [
       "1309"
      ]
     },
     "execution_count": 17,
     "metadata": {},
     "output_type": "execute_result"
    }
   ],
   "source": [
    "df = pd.concat((train, test))\n",
    "len(df)"
   ]
  },
  {
   "cell_type": "code",
   "execution_count": 18,
   "metadata": {},
   "outputs": [
    {
     "data": {
      "text/plain": [
       "(1309, 1309)"
      ]
     },
     "execution_count": 18,
     "metadata": {},
     "output_type": "execute_result"
    }
   ],
   "source": [
    "len(set(df[\"PassengerId\"])), len(df[\"PassengerId\"])"
   ]
  },
  {
   "cell_type": "code",
   "execution_count": 19,
   "metadata": {},
   "outputs": [
    {
     "data": {
      "text/plain": [
       "0"
      ]
     },
     "execution_count": 19,
     "metadata": {},
     "output_type": "execute_result"
    }
   ],
   "source": [
    "len([count for _, count in Counter(df[\"PassengerId\"]).most_common() if count >= 2])"
   ]
  },
  {
   "cell_type": "code",
   "execution_count": 20,
   "metadata": {},
   "outputs": [
    {
     "data": {
      "text/html": [
       "<div>\n",
       "<style scoped>\n",
       "    .dataframe tbody tr th:only-of-type {\n",
       "        vertical-align: middle;\n",
       "    }\n",
       "\n",
       "    .dataframe tbody tr th {\n",
       "        vertical-align: top;\n",
       "    }\n",
       "\n",
       "    .dataframe thead th {\n",
       "        text-align: right;\n",
       "    }\n",
       "</style>\n",
       "<table border=\"1\" class=\"dataframe\">\n",
       "  <thead>\n",
       "    <tr style=\"text-align: right;\">\n",
       "      <th></th>\n",
       "      <th>Age</th>\n",
       "      <th>Cabin</th>\n",
       "      <th>Embarked</th>\n",
       "      <th>Fare</th>\n",
       "      <th>Name</th>\n",
       "      <th>Parch</th>\n",
       "      <th>PassengerId</th>\n",
       "      <th>Pclass</th>\n",
       "      <th>Sex</th>\n",
       "      <th>SibSp</th>\n",
       "      <th>Survived</th>\n",
       "      <th>Ticket</th>\n",
       "    </tr>\n",
       "  </thead>\n",
       "  <tbody>\n",
       "    <tr>\n",
       "      <th>0</th>\n",
       "      <td>22.0</td>\n",
       "      <td>NaN</td>\n",
       "      <td>S</td>\n",
       "      <td>7.2500</td>\n",
       "      <td>Braund, Mr. Owen Harris</td>\n",
       "      <td>0</td>\n",
       "      <td>1</td>\n",
       "      <td>3</td>\n",
       "      <td>male</td>\n",
       "      <td>1</td>\n",
       "      <td>0</td>\n",
       "      <td>A/5 21171</td>\n",
       "    </tr>\n",
       "    <tr>\n",
       "      <th>1</th>\n",
       "      <td>38.0</td>\n",
       "      <td>C85</td>\n",
       "      <td>C</td>\n",
       "      <td>71.2833</td>\n",
       "      <td>Cumings, Mrs. John Bradley (Florence Briggs Th...</td>\n",
       "      <td>0</td>\n",
       "      <td>2</td>\n",
       "      <td>1</td>\n",
       "      <td>female</td>\n",
       "      <td>1</td>\n",
       "      <td>1</td>\n",
       "      <td>PC 17599</td>\n",
       "    </tr>\n",
       "    <tr>\n",
       "      <th>2</th>\n",
       "      <td>26.0</td>\n",
       "      <td>NaN</td>\n",
       "      <td>S</td>\n",
       "      <td>7.9250</td>\n",
       "      <td>Heikkinen, Miss. Laina</td>\n",
       "      <td>0</td>\n",
       "      <td>3</td>\n",
       "      <td>3</td>\n",
       "      <td>female</td>\n",
       "      <td>0</td>\n",
       "      <td>1</td>\n",
       "      <td>STON/O2. 3101282</td>\n",
       "    </tr>\n",
       "  </tbody>\n",
       "</table>\n",
       "</div>"
      ],
      "text/plain": [
       "    Age Cabin Embarked     Fare  \\\n",
       "0  22.0   NaN        S   7.2500   \n",
       "1  38.0   C85        C  71.2833   \n",
       "2  26.0   NaN        S   7.9250   \n",
       "\n",
       "                                                Name  Parch  PassengerId  \\\n",
       "0                            Braund, Mr. Owen Harris      0            1   \n",
       "1  Cumings, Mrs. John Bradley (Florence Briggs Th...      0            2   \n",
       "2                             Heikkinen, Miss. Laina      0            3   \n",
       "\n",
       "   Pclass     Sex  SibSp  Survived            Ticket  \n",
       "0       3    male      1         0         A/5 21171  \n",
       "1       1  female      1         1          PC 17599  \n",
       "2       3  female      0         1  STON/O2. 3101282  "
      ]
     },
     "execution_count": 20,
     "metadata": {},
     "output_type": "execute_result"
    }
   ],
   "source": [
    "df.head(n=3)"
   ]
  },
  {
   "cell_type": "markdown",
   "metadata": {},
   "source": [
    "## Ticket Cols"
   ]
  },
  {
   "cell_type": "code",
   "execution_count": 21,
   "metadata": {},
   "outputs": [
    {
     "data": {
      "text/plain": [
       "0           A/5 21171\n",
       "1            PC 17599\n",
       "2    STON/O2. 3101282\n",
       "3              113803\n",
       "4              373450\n",
       "5              330877\n",
       "6               17463\n",
       "7              349909\n",
       "8              347742\n",
       "9              237736\n",
       "Name: Ticket, dtype: object"
      ]
     },
     "execution_count": 21,
     "metadata": {},
     "output_type": "execute_result"
    }
   ],
   "source": [
    "tickets = df[\"Ticket\"]\n",
    "tickets[:10]"
   ]
  },
  {
   "cell_type": "code",
   "execution_count": 22,
   "metadata": {},
   "outputs": [],
   "source": [
    "t = list(tickets)"
   ]
  },
  {
   "cell_type": "code",
   "execution_count": 23,
   "metadata": {},
   "outputs": [
    {
     "name": "stdout",
     "output_type": "stream",
     "text": [
      "Weird tix: multiple parts STON/O 2. 3101294\n",
      "Weird tix: multiple parts STON/O 2. 3101280\n",
      "Weird tix: multiple parts STON/O 2. 3101275\n",
      "Weird tix: multiple parts STON/O 2. 3101293\n",
      "Weird tix: multiple parts STON/O 2. 3101289\n",
      "Weird tix: multiple parts STON/O 2. 3101269\n",
      "Weird tix: multiple parts STON/O 2. 3101274\n",
      "Weird tix: multiple parts SC/AH Basle 541\n",
      "Weird tix: multiple parts STON/O 2. 3101286\n",
      "Weird tix: multiple parts STON/O 2. 3101273\n",
      "Weird tix: multiple parts STON/O 2. 3101292\n",
      "Weird tix: multiple parts STON/O 2. 3101285\n",
      "Weird tix: multiple parts STON/O 2. 3101288\n",
      "Weird tix: multiple parts STON/O 2. 3101291\n",
      "Weird tix: multiple parts STON/O 2. 3101268\n",
      "Weird tix: multiple parts A. 2. 39186\n"
     ]
    }
   ],
   "source": [
    "tix_cats = []\n",
    "for ticket in tickets:\n",
    "    if ticket.isdigit():\n",
    "        tix_cat = \"digit\"\n",
    "        tix_cats.append(tix_cat)\n",
    "        continue\n",
    "    parts = ticket.split(\" \")\n",
    "    if len(parts) > 2:\n",
    "        print(\"Weird tix: multiple parts\", ticket)\n",
    "    if len(parts) == 2:\n",
    "        if not parts[1].isdigit():\n",
    "            print(\"Weird tix: non-digit\", ticket)\n",
    "    if len(parts) == 1:\n",
    "        tix_cat = parts[0]\n",
    "    else:\n",
    "        tix_cat = \" \".join(parts[:-1])\n",
    "    tix_cat = tix_cat.replace(\".\", \"\")\n",
    "    if tix_cat == \"\":\n",
    "        print(\"Weird tix: no digit\", ticket)\n",
    "    tix_cats.append(tix_cat)\n",
    "df[\"ticket_category\"] = tix_cats"
   ]
  },
  {
   "cell_type": "code",
   "execution_count": 24,
   "metadata": {},
   "outputs": [
    {
     "data": {
      "text/plain": [
       "[('digit', 957),\n",
       " ('PC', 92),\n",
       " ('CA', 68),\n",
       " ('A/5', 25),\n",
       " ('SOTON/OQ', 24),\n",
       " ('W/C', 15),\n",
       " ('STON/O 2', 14),\n",
       " ('SC/PARIS', 14),\n",
       " ('A/4', 9),\n",
       " ('FCC', 9),\n",
       " ('C', 8),\n",
       " ('STON/O2', 7),\n",
       " ('SOC', 7),\n",
       " ('SO/PP', 7),\n",
       " ('SC/Paris', 5),\n",
       " ('PP', 4),\n",
       " ('LINE', 4),\n",
       " ('SC/AH', 4),\n",
       " ('A5', 3),\n",
       " ('FC', 3),\n",
       " ('SOTON/O2', 3),\n",
       " ('SC/A4', 2),\n",
       " ('WEP', 2),\n",
       " ('SW/PP', 2),\n",
       " ('P/PP', 2),\n",
       " ('SC', 2),\n",
       " ('WE/P', 2),\n",
       " ('SP', 1),\n",
       " ('SO/C', 1),\n",
       " ('A4', 1),\n",
       " ('SOP', 1),\n",
       " ('Fa', 1),\n",
       " ('SCO/W', 1),\n",
       " ('A/S', 1),\n",
       " ('SC/AH Basle', 1),\n",
       " ('CA/SOTON', 1),\n",
       " ('SC/A3', 1),\n",
       " ('STON/OQ', 1),\n",
       " ('AQ/4', 1),\n",
       " ('A 2', 1),\n",
       " ('LP', 1),\n",
       " ('AQ/3', 1)]"
      ]
     },
     "execution_count": 24,
     "metadata": {},
     "output_type": "execute_result"
    }
   ],
   "source": [
    "tix_cat_counts = Counter(tix_cats).most_common()\n",
    "tix_cat_counts"
   ]
  },
  {
   "cell_type": "code",
   "execution_count": 25,
   "metadata": {},
   "outputs": [],
   "source": [
    "# Run some consolidation of categories...\n",
    "#TODO Identify which columns should actually be merged!\n"
   ]
  },
  {
   "cell_type": "code",
   "execution_count": 26,
   "metadata": {},
   "outputs": [
    {
     "name": "stderr",
     "output_type": "stream",
     "text": [
      "/home/levon003/anaconda3/lib/python3.6/site-packages/ipykernel_launcher.py:7: SettingWithCopyWarning: \n",
      "A value is trying to be set on a copy of a slice from a DataFrame\n",
      "\n",
      "See the caveats in the documentation: http://pandas.pydata.org/pandas-docs/stable/indexing.html#indexing-view-versus-copy\n",
      "  import sys\n"
     ]
    }
   ],
   "source": [
    "# consolidate lower-count cabin letters into a single factor level\n",
    "threshold = 7\n",
    "drop_low_counts = False  # should we drop low counts, or generate a new factor?\n",
    "new_tix_cat = None if drop_low_counts else \"other\"\n",
    "for tix_cat, count in tix_cat_counts:\n",
    "    if count < threshold:\n",
    "        df[\"ticket_category\"][df[\"ticket_category\"] == tix_cat] = new_tix_cat"
   ]
  },
  {
   "cell_type": "code",
   "execution_count": 27,
   "metadata": {},
   "outputs": [
    {
     "data": {
      "text/plain": [
       "[('digit', 957),\n",
       " ('PC', 92),\n",
       " ('CA', 68),\n",
       " ('other', 53),\n",
       " ('A/5', 25),\n",
       " ('SOTON/OQ', 24),\n",
       " ('W/C', 15),\n",
       " ('STON/O 2', 14),\n",
       " ('SC/PARIS', 14),\n",
       " ('A/4', 9),\n",
       " ('FCC', 9),\n",
       " ('C', 8),\n",
       " ('STON/O2', 7),\n",
       " ('SOC', 7),\n",
       " ('SO/PP', 7)]"
      ]
     },
     "execution_count": 27,
     "metadata": {},
     "output_type": "execute_result"
    }
   ],
   "source": [
    "Counter(df[\"ticket_category\"]).most_common()"
   ]
  },
  {
   "cell_type": "markdown",
   "metadata": {},
   "source": [
    "## Cabin Cols"
   ]
  },
  {
   "cell_type": "code",
   "execution_count": 28,
   "metadata": {
    "scrolled": true
   },
   "outputs": [
    {
     "data": {
      "text/plain": [
       "0     NaN\n",
       "1     C85\n",
       "2     NaN\n",
       "3    C123\n",
       "4     NaN\n",
       "5     NaN\n",
       "6     E46\n",
       "7     NaN\n",
       "8     NaN\n",
       "9     NaN\n",
       "Name: Cabin, dtype: object"
      ]
     },
     "execution_count": 28,
     "metadata": {},
     "output_type": "execute_result"
    }
   ],
   "source": [
    "df[\"Cabin\"][:10]"
   ]
  },
  {
   "cell_type": "code",
   "execution_count": 29,
   "metadata": {},
   "outputs": [
    {
     "data": {
      "text/plain": [
       "[(nan, 1014),\n",
       " ('C23 C25 C27', 6),\n",
       " ('G6', 5),\n",
       " ('B57 B59 B63 B66', 5),\n",
       " ('F33', 4),\n",
       " ('F2', 4),\n",
       " ('F4', 4),\n",
       " ('C78', 4),\n",
       " ('D', 4),\n",
       " ('C22 C26', 4),\n",
       " ('B96 B98', 4),\n",
       " ('B58 B60', 3),\n",
       " ('E101', 3),\n",
       " ('E34', 3),\n",
       " ('A34', 3),\n",
       " ('C101', 3),\n",
       " ('B51 B53 B55', 3),\n",
       " ('C85', 2),\n",
       " ('C123', 2),\n",
       " ('E46', 2)]"
      ]
     },
     "execution_count": 29,
     "metadata": {},
     "output_type": "execute_result"
    }
   ],
   "source": [
    "Counter(df[\"Cabin\"]).most_common()[:20]"
   ]
  },
  {
   "cell_type": "code",
   "execution_count": 30,
   "metadata": {},
   "outputs": [],
   "source": [
    "cabin_letters = []\n",
    "for cabin in df[\"Cabin\"]:\n",
    "    if cabin is None:\n",
    "        cabin_letters.append(\"n\")\n",
    "    else:\n",
    "        cabin = str(cabin)\n",
    "        cabin_letters.append(cabin[0])\n",
    "        # Taking the first letter is generally safe, although there are a few entries with multiple letter types\n",
    "df[\"cabin_first_letter\"] = cabin_letters"
   ]
  },
  {
   "cell_type": "code",
   "execution_count": 31,
   "metadata": {},
   "outputs": [
    {
     "data": {
      "text/plain": [
       "[('n', 1014),\n",
       " ('C', 94),\n",
       " ('B', 65),\n",
       " ('D', 46),\n",
       " ('E', 41),\n",
       " ('A', 22),\n",
       " ('F', 21),\n",
       " ('G', 5),\n",
       " ('T', 1)]"
      ]
     },
     "execution_count": 31,
     "metadata": {},
     "output_type": "execute_result"
    }
   ],
   "source": [
    "cabin_letter_counts = Counter(df[\"cabin_first_letter\"]).most_common()\n",
    "cabin_letter_counts"
   ]
  },
  {
   "cell_type": "code",
   "execution_count": 32,
   "metadata": {},
   "outputs": [
    {
     "name": "stderr",
     "output_type": "stream",
     "text": [
      "/home/levon003/anaconda3/lib/python3.6/site-packages/ipykernel_launcher.py:7: SettingWithCopyWarning: \n",
      "A value is trying to be set on a copy of a slice from a DataFrame\n",
      "\n",
      "See the caveats in the documentation: http://pandas.pydata.org/pandas-docs/stable/indexing.html#indexing-view-versus-copy\n",
      "  import sys\n"
     ]
    }
   ],
   "source": [
    "# consolidate lower-count cabin letters into a single factor level\n",
    "threshold = 40\n",
    "drop_low_counts = False  # should we drop low counts, or generate a new factor?\n",
    "new_cabin_letter = \"n\" if drop_low_counts else \"o\"\n",
    "for cabin_letter, count in cabin_letter_counts:\n",
    "    if count < threshold:\n",
    "        df[\"cabin_first_letter\"][df[\"cabin_first_letter\"] == cabin_letter] = new_cabin_letter"
   ]
  },
  {
   "cell_type": "code",
   "execution_count": 33,
   "metadata": {},
   "outputs": [
    {
     "data": {
      "text/plain": [
       "[('n', 1014), ('C', 94), ('B', 65), ('o', 49), ('D', 46), ('E', 41)]"
      ]
     },
     "execution_count": 33,
     "metadata": {},
     "output_type": "execute_result"
    }
   ],
   "source": [
    "cabin_letter_counts = Counter(df[\"cabin_first_letter\"]).most_common()\n",
    "cabin_letter_counts"
   ]
  },
  {
   "cell_type": "markdown",
   "metadata": {},
   "source": [
    "## Name Cols"
   ]
  },
  {
   "cell_type": "code",
   "execution_count": 34,
   "metadata": {},
   "outputs": [
    {
     "data": {
      "text/plain": [
       "0                              Braund, Mr. Owen Harris\n",
       "1    Cumings, Mrs. John Bradley (Florence Briggs Th...\n",
       "2                               Heikkinen, Miss. Laina\n",
       "3         Futrelle, Mrs. Jacques Heath (Lily May Peel)\n",
       "4                             Allen, Mr. William Henry\n",
       "5                                     Moran, Mr. James\n",
       "6                              McCarthy, Mr. Timothy J\n",
       "7                       Palsson, Master. Gosta Leonard\n",
       "8    Johnson, Mrs. Oscar W (Elisabeth Vilhelmina Berg)\n",
       "9                  Nasser, Mrs. Nicholas (Adele Achem)\n",
       "Name: Name, dtype: object"
      ]
     },
     "execution_count": 34,
     "metadata": {},
     "output_type": "execute_result"
    }
   ],
   "source": [
    "df[\"Name\"][:10]"
   ]
  },
  {
   "cell_type": "code",
   "execution_count": 40,
   "metadata": {},
   "outputs": [],
   "source": [
    "name_word_lengths = []\n",
    "name_char_lengths = []\n",
    "name_titles = []\n",
    "\n",
    "raw_name_titles = []\n",
    "# Based on a quick historic assessment of the use of these honorifics,\n",
    "# I mapped passenger titles to sub-categories\n",
    "name_title_map = {\n",
    "    \"Ms.\": \"Miss.\",\n",
    "    \"Mlle.\": \"Miss.\",\n",
    "    \"Major.\": \"Military\",\n",
    "    \"Col.\": \"Military\",\n",
    "    \"Capt.\": \"Military\",\n",
    "    \"Don.\": \"Nobility\",\n",
    "    \"Dona.\": \"Nobility\",\n",
    "    \"Mme.\": \"Mrs.\",\n",
    "    \"Lady.\": \"Nobility\",\n",
    "    \"Sir.\": \"Nobility\",\n",
    "    \"Countess.\": \"Nobility\",\n",
    "    \"Jonkheer.\": \"Nobility\",\n",
    "}\n",
    "\n",
    "for name in df[\"Name\"]:\n",
    "    new_name = re.sub(\n",
    "           r\"\\(.+\\)\", \n",
    "           \"\", \n",
    "           name)\n",
    "    name_parts = new_name.split(\" \")\n",
    "    title_found = False\n",
    "    for name_part in name_parts:\n",
    "        if \".\" in name_part:\n",
    "            title_found = True\n",
    "            raw_name_titles.append(name_part)\n",
    "            title = name_part\n",
    "            if title in name_title_map:\n",
    "                title = name_title_map[title]\n",
    "            name_titles.append(title)\n",
    "            \n",
    "    name_length = len(name_parts)\n",
    "    if title_found:\n",
    "        name_length -= 1\n",
    "    if name_length >= 5:\n",
    "        # Count all names as 5+ words as 5 words\n",
    "        name_length = 5\n",
    "    name_word_lengths.append(name_length)\n",
    "    \n",
    "    #Length of the name without spaces, not including the title, minus 1 for the comma\n",
    "    char_length = len(\"\".join([np for np in name_parts if \".\" not in np])) - 1\n",
    "    name_char_lengths.append(char_length)\n",
    "    \n",
    "df[\"name_word_length\"] = name_word_lengths\n",
    "df[\"name_char_length\"] = name_char_lengths\n",
    "df[\"name_title\"] = name_titles\n",
    "df[\"name_title_raw\"] = raw_name_titles"
   ]
  },
  {
   "cell_type": "code",
   "execution_count": 41,
   "metadata": {},
   "outputs": [
    {
     "data": {
      "text/plain": [
       "[('Mr.', 757),\n",
       " ('Miss.', 260),\n",
       " ('Mrs.', 197),\n",
       " ('Master.', 61),\n",
       " ('Rev.', 8),\n",
       " ('Dr.', 8),\n",
       " ('Col.', 4),\n",
       " ('Ms.', 2),\n",
       " ('Major.', 2),\n",
       " ('Mlle.', 2),\n",
       " ('Don.', 1),\n",
       " ('Mme.', 1),\n",
       " ('Lady.', 1),\n",
       " ('Sir.', 1),\n",
       " ('Capt.', 1),\n",
       " ('Countess.', 1),\n",
       " ('Jonkheer.', 1),\n",
       " ('Dona.', 1)]"
      ]
     },
     "execution_count": 41,
     "metadata": {},
     "output_type": "execute_result"
    }
   ],
   "source": [
    "Counter(raw_name_titles).most_common()"
   ]
  },
  {
   "cell_type": "code",
   "execution_count": 42,
   "metadata": {},
   "outputs": [
    {
     "data": {
      "text/plain": [
       "[('Mr.', 757),\n",
       " ('Miss.', 264),\n",
       " ('Mrs.', 198),\n",
       " ('Master.', 61),\n",
       " ('Rev.', 8),\n",
       " ('Dr.', 8),\n",
       " ('Military', 7),\n",
       " ('Nobility', 6)]"
      ]
     },
     "execution_count": 42,
     "metadata": {},
     "output_type": "execute_result"
    }
   ],
   "source": [
    "Counter(name_titles).most_common()"
   ]
  },
  {
   "cell_type": "code",
   "execution_count": 43,
   "metadata": {},
   "outputs": [
    {
     "data": {
      "text/plain": [
       "[(3, 628), (2, 462), (4, 198), (5, 21)]"
      ]
     },
     "execution_count": 43,
     "metadata": {},
     "output_type": "execute_result"
    }
   ],
   "source": [
    "Counter(df[\"name_word_length\"]).most_common()"
   ]
  },
  {
   "cell_type": "code",
   "execution_count": 44,
   "metadata": {},
   "outputs": [
    {
     "data": {
      "image/png": "[encoded data removed]",
      "text/plain": [
       "<Figure size 432x288 with 1 Axes>"
      ]
     },
     "metadata": {},
     "output_type": "display_data"
    }
   ],
   "source": [
    "# Quick histogram of the character lengths of names\n",
    "plt.hist(df[\"name_char_length\"])\n",
    "plt.show()"
   ]
  },
  {
   "cell_type": "markdown",
   "metadata": {
    "collapsed": true
   },
   "source": [
    "## Save output to CSV"
   ]
  },
  {
   "cell_type": "code",
   "execution_count": 45,
   "metadata": {},
   "outputs": [],
   "source": [
    "subset_df = df[[\"PassengerId\",\n",
    "               \"ticket_category\", \"cabin_first_letter\", \"name_title\", \n",
    "               \"name_title_raw\", \"name_word_length\", \"name_char_length\"]]\n",
    "output_filepath = \"../../data/derived/levon003_new_cols.csv\"\n",
    "subset_df.to_csv(output_filepath, index=False)"
   ]
  },
  {
   "cell_type": "code",
   "execution_count": null,
   "metadata": {},
   "outputs": [],
   "source": []
  }
 ],
 "metadata": {
  "kernelspec": {
   "display_name": "Python 3",
   "language": "python",
   "name": "python3"
  },
  "language_info": {
   "codemirror_mode": {
    "name": "ipython",
    "version": 3
   },
   "file_extension": ".py",
   "mimetype": "text/x-python",
   "name": "python",
   "nbconvert_exporter": "python",
   "pygments_lexer": "ipython3",
   "version": "3.6.5"
  }
 },
 "nbformat": 4,
 "nbformat_minor": 2
}
